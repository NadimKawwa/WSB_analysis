{
 "cells": [
  {
   "cell_type": "code",
   "execution_count": 1,
   "metadata": {},
   "outputs": [],
   "source": [
    "import pandas as pd\n",
    "import numpy as np\n",
    "import matplotlib.pyplot as plt\n",
    "import os\n",
    "import emoji\n",
    "import math\n",
    "\n",
    "\n",
    "%matplotlib inline"
   ]
  },
  {
   "cell_type": "code",
   "execution_count": 2,
   "metadata": {},
   "outputs": [],
   "source": [
    "comm_dir = os.path.join('data', 'comment_df_raw.csv')\n",
    "sub_dir = os.path.join('data', 'submission_df_raw.csv')\n",
    "\n",
    "\n",
    "df_comm = pd.read_csv(comm_dir, index_col=0)\n"
   ]
  },
  {
   "cell_type": "code",
   "execution_count": 3,
   "metadata": {},
   "outputs": [],
   "source": [
    "df_sub = pd.read_csv(sub_dir, index_col=0)"
   ]
  },
  {
   "cell_type": "code",
   "execution_count": 4,
   "metadata": {},
   "outputs": [],
   "source": [
    "df = pd.concat([df_comm, df_sub], axis=0)"
   ]
  },
  {
   "cell_type": "code",
   "execution_count": 5,
   "metadata": {},
   "outputs": [
    {
     "data": {
      "text/plain": [
       "(131245, 15)"
      ]
     },
     "execution_count": 5,
     "metadata": {},
     "output_type": "execute_result"
    }
   ],
   "source": [
    "df.shape"
   ]
  },
  {
   "cell_type": "code",
   "execution_count": 6,
   "metadata": {},
   "outputs": [
    {
     "data": {
      "text/html": [
       "<div>\n",
       "<style scoped>\n",
       "    .dataframe tbody tr th:only-of-type {\n",
       "        vertical-align: middle;\n",
       "    }\n",
       "\n",
       "    .dataframe tbody tr th {\n",
       "        vertical-align: top;\n",
       "    }\n",
       "\n",
       "    .dataframe thead th {\n",
       "        text-align: right;\n",
       "    }\n",
       "</style>\n",
       "<table border=\"1\" class=\"dataframe\">\n",
       "  <thead>\n",
       "    <tr style=\"text-align: right;\">\n",
       "      <th></th>\n",
       "      <th>total_awards_received</th>\n",
       "      <th>author</th>\n",
       "      <th>author_premium</th>\n",
       "      <th>created_utc</th>\n",
       "      <th>flair</th>\n",
       "      <th>is_video</th>\n",
       "      <th>num_comments</th>\n",
       "      <th>score</th>\n",
       "      <th>self_text</th>\n",
       "      <th>title</th>\n",
       "      <th>is_submission</th>\n",
       "      <th>is_op</th>\n",
       "      <th>subreddit_subscribers</th>\n",
       "      <th>upvote_ratio</th>\n",
       "      <th>no_follow</th>\n",
       "    </tr>\n",
       "  </thead>\n",
       "  <tbody>\n",
       "    <tr>\n",
       "      <th>0</th>\n",
       "      <td>0</td>\n",
       "      <td>VacationLover1</td>\n",
       "      <td>True</td>\n",
       "      <td>1610160906</td>\n",
       "      <td>NaN</td>\n",
       "      <td>0</td>\n",
       "      <td>0</td>\n",
       "      <td>983</td>\n",
       "      <td>Get off me, I’m a Robinhood hundredaire and up...</td>\n",
       "      <td></td>\n",
       "      <td>0</td>\n",
       "      <td>0</td>\n",
       "      <td>NaN</td>\n",
       "      <td>0.0</td>\n",
       "      <td>False</td>\n",
       "    </tr>\n",
       "    <tr>\n",
       "      <th>1</th>\n",
       "      <td>2</td>\n",
       "      <td>Megakittysnuggler</td>\n",
       "      <td>False</td>\n",
       "      <td>1610165200</td>\n",
       "      <td>NaN</td>\n",
       "      <td>0</td>\n",
       "      <td>0</td>\n",
       "      <td>962</td>\n",
       "      <td>My man knows a bad investment when he see one.</td>\n",
       "      <td></td>\n",
       "      <td>0</td>\n",
       "      <td>0</td>\n",
       "      <td>NaN</td>\n",
       "      <td>0.0</td>\n",
       "      <td>False</td>\n",
       "    </tr>\n",
       "    <tr>\n",
       "      <th>2</th>\n",
       "      <td>5</td>\n",
       "      <td>InstagramStockTrader</td>\n",
       "      <td>False</td>\n",
       "      <td>1610176776</td>\n",
       "      <td>NaN</td>\n",
       "      <td>0</td>\n",
       "      <td>0</td>\n",
       "      <td>955</td>\n",
       "      <td>Why does it look like a retarded elephant on a...</td>\n",
       "      <td></td>\n",
       "      <td>0</td>\n",
       "      <td>0</td>\n",
       "      <td>NaN</td>\n",
       "      <td>0.0</td>\n",
       "      <td>False</td>\n",
       "    </tr>\n",
       "    <tr>\n",
       "      <th>3</th>\n",
       "      <td>2</td>\n",
       "      <td>arpatel530</td>\n",
       "      <td>False</td>\n",
       "      <td>1610150619</td>\n",
       "      <td>NaN</td>\n",
       "      <td>0</td>\n",
       "      <td>0</td>\n",
       "      <td>859</td>\n",
       "      <td>True legend. Every single penny was used for s...</td>\n",
       "      <td></td>\n",
       "      <td>0</td>\n",
       "      <td>0</td>\n",
       "      <td>NaN</td>\n",
       "      <td>0.0</td>\n",
       "      <td>False</td>\n",
       "    </tr>\n",
       "    <tr>\n",
       "      <th>4</th>\n",
       "      <td>0</td>\n",
       "      <td>diffcalculus</td>\n",
       "      <td>True</td>\n",
       "      <td>1610171865</td>\n",
       "      <td>NaN</td>\n",
       "      <td>0</td>\n",
       "      <td>0</td>\n",
       "      <td>430</td>\n",
       "      <td>The $150 is *after* the 800%</td>\n",
       "      <td></td>\n",
       "      <td>0</td>\n",
       "      <td>0</td>\n",
       "      <td>NaN</td>\n",
       "      <td>0.0</td>\n",
       "      <td>False</td>\n",
       "    </tr>\n",
       "  </tbody>\n",
       "</table>\n",
       "</div>"
      ],
      "text/plain": [
       "   total_awards_received                author  author_premium  created_utc  \\\n",
       "0                      0        VacationLover1            True   1610160906   \n",
       "1                      2     Megakittysnuggler           False   1610165200   \n",
       "2                      5  InstagramStockTrader           False   1610176776   \n",
       "3                      2            arpatel530           False   1610150619   \n",
       "4                      0          diffcalculus            True   1610171865   \n",
       "\n",
       "  flair  is_video  num_comments  score  \\\n",
       "0   NaN         0             0    983   \n",
       "1   NaN         0             0    962   \n",
       "2   NaN         0             0    955   \n",
       "3   NaN         0             0    859   \n",
       "4   NaN         0             0    430   \n",
       "\n",
       "                                           self_text title  is_submission  \\\n",
       "0  Get off me, I’m a Robinhood hundredaire and up...                    0   \n",
       "1     My man knows a bad investment when he see one.                    0   \n",
       "2  Why does it look like a retarded elephant on a...                    0   \n",
       "3  True legend. Every single penny was used for s...                    0   \n",
       "4                       The $150 is *after* the 800%                    0   \n",
       "\n",
       "   is_op  subreddit_subscribers  upvote_ratio  no_follow  \n",
       "0      0                    NaN           0.0      False  \n",
       "1      0                    NaN           0.0      False  \n",
       "2      0                    NaN           0.0      False  \n",
       "3      0                    NaN           0.0      False  \n",
       "4      0                    NaN           0.0      False  "
      ]
     },
     "execution_count": 6,
     "metadata": {},
     "output_type": "execute_result"
    }
   ],
   "source": [
    "df.head()"
   ]
  },
  {
   "cell_type": "code",
   "execution_count": 7,
   "metadata": {},
   "outputs": [
    {
     "data": {
      "text/plain": [
       "total_awards_received    0.000000\n",
       "author                   0.000000\n",
       "author_premium           0.000000\n",
       "created_utc              0.000000\n",
       "flair                    0.518084\n",
       "is_video                 0.000000\n",
       "num_comments             0.000000\n",
       "score                    0.000000\n",
       "self_text                0.000000\n",
       "title                    0.000000\n",
       "is_submission            0.000000\n",
       "is_op                    0.000000\n",
       "subreddit_subscribers    0.499829\n",
       "upvote_ratio             0.000000\n",
       "no_follow                0.000000\n",
       "dtype: float64"
      ]
     },
     "execution_count": 7,
     "metadata": {},
     "output_type": "execute_result"
    }
   ],
   "source": [
    "df.isna().mean()"
   ]
  },
  {
   "cell_type": "code",
   "execution_count": 8,
   "metadata": {
    "scrolled": true
   },
   "outputs": [
    {
     "data": {
      "text/plain": [
       "total_awards_received      int64\n",
       "author                    object\n",
       "author_premium              bool\n",
       "created_utc                int64\n",
       "flair                     object\n",
       "is_video                   int64\n",
       "num_comments               int64\n",
       "score                      int64\n",
       "self_text                 object\n",
       "title                     object\n",
       "is_submission              int64\n",
       "is_op                      int64\n",
       "subreddit_subscribers    float64\n",
       "upvote_ratio             float64\n",
       "no_follow                   bool\n",
       "dtype: object"
      ]
     },
     "execution_count": 8,
     "metadata": {},
     "output_type": "execute_result"
    }
   ],
   "source": [
    "df.dtypes"
   ]
  },
  {
   "cell_type": "markdown",
   "metadata": {},
   "source": [
    "## Empty Text\n",
    "remove [delete] / [removed] / [deleted] text"
   ]
  },
  {
   "cell_type": "code",
   "execution_count": 9,
   "metadata": {},
   "outputs": [],
   "source": [
    "#remove unwated text in self_text\n",
    "df = df[~df['self_text'].str.contains('[removed]',\n",
    "                                     regex=False)]\n",
    "#removed unwanted text in author\n",
    "df = df[~df['author'].str.contains('[deleted]',\n",
    "                                     regex=False)]\n",
    "\n",
    "#removed unwanted text in title\n",
    "df = df[~df['title'].str.contains('[deleted]',\n",
    "                                     regex=False)]"
   ]
  },
  {
   "cell_type": "markdown",
   "metadata": {},
   "source": [
    "### Drop Duplicates\n",
    "\n",
    "Assume that it's impossible for two posts to be identical AND created at the same time by the same person, and somehow get to top/hot page."
   ]
  },
  {
   "cell_type": "code",
   "execution_count": 10,
   "metadata": {},
   "outputs": [
    {
     "data": {
      "text/plain": [
       "(129337, 15)"
      ]
     },
     "execution_count": 10,
     "metadata": {},
     "output_type": "execute_result"
    }
   ],
   "source": [
    "#drop duplicates\n",
    "df_dup = df.drop_duplicates(subset = ['author', 'created_utc'],\n",
    "                            keep='first', \n",
    "                            ignore_index=False)\n",
    "\n",
    "df_dup.shape"
   ]
  },
  {
   "cell_type": "code",
   "execution_count": 11,
   "metadata": {},
   "outputs": [
    {
     "data": {
      "text/plain": [
       "0.9998994974874372"
      ]
     },
     "execution_count": 11,
     "metadata": {},
     "output_type": "execute_result"
    }
   ],
   "source": [
    "len(df_dup) / len(df)"
   ]
  },
  {
   "cell_type": "code",
   "execution_count": 12,
   "metadata": {},
   "outputs": [
    {
     "data": {
      "text/html": [
       "<div>\n",
       "<style scoped>\n",
       "    .dataframe tbody tr th:only-of-type {\n",
       "        vertical-align: middle;\n",
       "    }\n",
       "\n",
       "    .dataframe tbody tr th {\n",
       "        vertical-align: top;\n",
       "    }\n",
       "\n",
       "    .dataframe thead th {\n",
       "        text-align: right;\n",
       "    }\n",
       "</style>\n",
       "<table border=\"1\" class=\"dataframe\">\n",
       "  <thead>\n",
       "    <tr style=\"text-align: right;\">\n",
       "      <th></th>\n",
       "      <th>total_awards_received</th>\n",
       "      <th>author</th>\n",
       "      <th>author_premium</th>\n",
       "      <th>created_utc</th>\n",
       "      <th>flair</th>\n",
       "      <th>is_video</th>\n",
       "      <th>num_comments</th>\n",
       "      <th>score</th>\n",
       "      <th>self_text</th>\n",
       "      <th>title</th>\n",
       "      <th>is_submission</th>\n",
       "      <th>is_op</th>\n",
       "      <th>subreddit_subscribers</th>\n",
       "      <th>upvote_ratio</th>\n",
       "      <th>no_follow</th>\n",
       "    </tr>\n",
       "  </thead>\n",
       "  <tbody>\n",
       "    <tr>\n",
       "      <th>0</th>\n",
       "      <td>0</td>\n",
       "      <td>VacationLover1</td>\n",
       "      <td>True</td>\n",
       "      <td>1610160906</td>\n",
       "      <td>NaN</td>\n",
       "      <td>0</td>\n",
       "      <td>0</td>\n",
       "      <td>983</td>\n",
       "      <td>Get off me, I’m a Robinhood hundredaire and up...</td>\n",
       "      <td></td>\n",
       "      <td>0</td>\n",
       "      <td>0</td>\n",
       "      <td>NaN</td>\n",
       "      <td>0.0</td>\n",
       "      <td>False</td>\n",
       "    </tr>\n",
       "    <tr>\n",
       "      <th>1</th>\n",
       "      <td>2</td>\n",
       "      <td>Megakittysnuggler</td>\n",
       "      <td>False</td>\n",
       "      <td>1610165200</td>\n",
       "      <td>NaN</td>\n",
       "      <td>0</td>\n",
       "      <td>0</td>\n",
       "      <td>962</td>\n",
       "      <td>My man knows a bad investment when he see one.</td>\n",
       "      <td></td>\n",
       "      <td>0</td>\n",
       "      <td>0</td>\n",
       "      <td>NaN</td>\n",
       "      <td>0.0</td>\n",
       "      <td>False</td>\n",
       "    </tr>\n",
       "    <tr>\n",
       "      <th>2</th>\n",
       "      <td>5</td>\n",
       "      <td>InstagramStockTrader</td>\n",
       "      <td>False</td>\n",
       "      <td>1610176776</td>\n",
       "      <td>NaN</td>\n",
       "      <td>0</td>\n",
       "      <td>0</td>\n",
       "      <td>955</td>\n",
       "      <td>Why does it look like a retarded elephant on a...</td>\n",
       "      <td></td>\n",
       "      <td>0</td>\n",
       "      <td>0</td>\n",
       "      <td>NaN</td>\n",
       "      <td>0.0</td>\n",
       "      <td>False</td>\n",
       "    </tr>\n",
       "    <tr>\n",
       "      <th>3</th>\n",
       "      <td>2</td>\n",
       "      <td>arpatel530</td>\n",
       "      <td>False</td>\n",
       "      <td>1610150619</td>\n",
       "      <td>NaN</td>\n",
       "      <td>0</td>\n",
       "      <td>0</td>\n",
       "      <td>859</td>\n",
       "      <td>True legend. Every single penny was used for s...</td>\n",
       "      <td></td>\n",
       "      <td>0</td>\n",
       "      <td>0</td>\n",
       "      <td>NaN</td>\n",
       "      <td>0.0</td>\n",
       "      <td>False</td>\n",
       "    </tr>\n",
       "    <tr>\n",
       "      <th>4</th>\n",
       "      <td>0</td>\n",
       "      <td>diffcalculus</td>\n",
       "      <td>True</td>\n",
       "      <td>1610171865</td>\n",
       "      <td>NaN</td>\n",
       "      <td>0</td>\n",
       "      <td>0</td>\n",
       "      <td>430</td>\n",
       "      <td>The $150 is *after* the 800%</td>\n",
       "      <td></td>\n",
       "      <td>0</td>\n",
       "      <td>0</td>\n",
       "      <td>NaN</td>\n",
       "      <td>0.0</td>\n",
       "      <td>False</td>\n",
       "    </tr>\n",
       "  </tbody>\n",
       "</table>\n",
       "</div>"
      ],
      "text/plain": [
       "   total_awards_received                author  author_premium  created_utc  \\\n",
       "0                      0        VacationLover1            True   1610160906   \n",
       "1                      2     Megakittysnuggler           False   1610165200   \n",
       "2                      5  InstagramStockTrader           False   1610176776   \n",
       "3                      2            arpatel530           False   1610150619   \n",
       "4                      0          diffcalculus            True   1610171865   \n",
       "\n",
       "  flair  is_video  num_comments  score  \\\n",
       "0   NaN         0             0    983   \n",
       "1   NaN         0             0    962   \n",
       "2   NaN         0             0    955   \n",
       "3   NaN         0             0    859   \n",
       "4   NaN         0             0    430   \n",
       "\n",
       "                                           self_text title  is_submission  \\\n",
       "0  Get off me, I’m a Robinhood hundredaire and up...                    0   \n",
       "1     My man knows a bad investment when he see one.                    0   \n",
       "2  Why does it look like a retarded elephant on a...                    0   \n",
       "3  True legend. Every single penny was used for s...                    0   \n",
       "4                       The $150 is *after* the 800%                    0   \n",
       "\n",
       "   is_op  subreddit_subscribers  upvote_ratio  no_follow  \n",
       "0      0                    NaN           0.0      False  \n",
       "1      0                    NaN           0.0      False  \n",
       "2      0                    NaN           0.0      False  \n",
       "3      0                    NaN           0.0      False  \n",
       "4      0                    NaN           0.0      False  "
      ]
     },
     "execution_count": 12,
     "metadata": {},
     "output_type": "execute_result"
    }
   ],
   "source": [
    "df_dup.head()"
   ]
  },
  {
   "cell_type": "markdown",
   "metadata": {},
   "source": [
    "### Organize By  Submission Date & Fill In Num Subscribers\n",
    "\n",
    "Make this assumption:\n",
    "\n",
    "The number of subscribers at the time of your post is whatever the closest known number is"
   ]
  },
  {
   "cell_type": "code",
   "execution_count": 13,
   "metadata": {},
   "outputs": [
    {
     "data": {
      "text/html": [
       "<div>\n",
       "<style scoped>\n",
       "    .dataframe tbody tr th:only-of-type {\n",
       "        vertical-align: middle;\n",
       "    }\n",
       "\n",
       "    .dataframe tbody tr th {\n",
       "        vertical-align: top;\n",
       "    }\n",
       "\n",
       "    .dataframe thead th {\n",
       "        text-align: right;\n",
       "    }\n",
       "</style>\n",
       "<table border=\"1\" class=\"dataframe\">\n",
       "  <thead>\n",
       "    <tr style=\"text-align: right;\">\n",
       "      <th></th>\n",
       "      <th>total_awards_received</th>\n",
       "      <th>author</th>\n",
       "      <th>author_premium</th>\n",
       "      <th>created_utc</th>\n",
       "      <th>flair</th>\n",
       "      <th>is_video</th>\n",
       "      <th>num_comments</th>\n",
       "      <th>score</th>\n",
       "      <th>self_text</th>\n",
       "      <th>title</th>\n",
       "      <th>is_submission</th>\n",
       "      <th>is_op</th>\n",
       "      <th>subreddit_subscribers</th>\n",
       "      <th>upvote_ratio</th>\n",
       "      <th>no_follow</th>\n",
       "    </tr>\n",
       "  </thead>\n",
       "  <tbody>\n",
       "    <tr>\n",
       "      <th>0</th>\n",
       "      <td>0</td>\n",
       "      <td>chibears20</td>\n",
       "      <td>False</td>\n",
       "      <td>2020-07-01 00:00:23</td>\n",
       "      <td>Discussion</td>\n",
       "      <td>0</td>\n",
       "      <td>11</td>\n",
       "      <td>1</td>\n",
       "      <td></td>\n",
       "      <td>Bring back polls. Macy’s earnings</td>\n",
       "      <td>1</td>\n",
       "      <td>1</td>\n",
       "      <td>1310116.0</td>\n",
       "      <td>1.0</td>\n",
       "      <td>True</td>\n",
       "    </tr>\n",
       "    <tr>\n",
       "      <th>1</th>\n",
       "      <td>0</td>\n",
       "      <td>slow_down_more</td>\n",
       "      <td>False</td>\n",
       "      <td>2020-07-01 00:01:21</td>\n",
       "      <td>NaN</td>\n",
       "      <td>0</td>\n",
       "      <td>0</td>\n",
       "      <td>31</td>\n",
       "      <td>Thanks i had no clue 😎</td>\n",
       "      <td></td>\n",
       "      <td>0</td>\n",
       "      <td>0</td>\n",
       "      <td>1310118.0</td>\n",
       "      <td>0.0</td>\n",
       "      <td>False</td>\n",
       "    </tr>\n",
       "    <tr>\n",
       "      <th>2</th>\n",
       "      <td>0</td>\n",
       "      <td>hombrebad</td>\n",
       "      <td>False</td>\n",
       "      <td>2020-07-01 00:04:02</td>\n",
       "      <td>Meme</td>\n",
       "      <td>0</td>\n",
       "      <td>0</td>\n",
       "      <td>1</td>\n",
       "      <td></td>\n",
       "      <td>Comfort Inn knows whats up 😎</td>\n",
       "      <td>1</td>\n",
       "      <td>1</td>\n",
       "      <td>1310120.0</td>\n",
       "      <td>1.0</td>\n",
       "      <td>True</td>\n",
       "    </tr>\n",
       "    <tr>\n",
       "      <th>3</th>\n",
       "      <td>0</td>\n",
       "      <td>water_boat</td>\n",
       "      <td>False</td>\n",
       "      <td>2020-07-01 00:07:43</td>\n",
       "      <td>DD</td>\n",
       "      <td>0</td>\n",
       "      <td>0</td>\n",
       "      <td>1</td>\n",
       "      <td></td>\n",
       "      <td>The next $NKLA?</td>\n",
       "      <td>1</td>\n",
       "      <td>1</td>\n",
       "      <td>1310126.0</td>\n",
       "      <td>1.0</td>\n",
       "      <td>True</td>\n",
       "    </tr>\n",
       "    <tr>\n",
       "      <th>4</th>\n",
       "      <td>0</td>\n",
       "      <td>water_boat</td>\n",
       "      <td>False</td>\n",
       "      <td>2020-07-01 00:09:27</td>\n",
       "      <td>DD</td>\n",
       "      <td>0</td>\n",
       "      <td>0</td>\n",
       "      <td>1</td>\n",
       "      <td></td>\n",
       "      <td>The next meme stock? -$WKHS</td>\n",
       "      <td>1</td>\n",
       "      <td>1</td>\n",
       "      <td>1310128.0</td>\n",
       "      <td>1.0</td>\n",
       "      <td>True</td>\n",
       "    </tr>\n",
       "  </tbody>\n",
       "</table>\n",
       "</div>"
      ],
      "text/plain": [
       "   total_awards_received          author  author_premium         created_utc  \\\n",
       "0                      0      chibears20           False 2020-07-01 00:00:23   \n",
       "1                      0  slow_down_more           False 2020-07-01 00:01:21   \n",
       "2                      0       hombrebad           False 2020-07-01 00:04:02   \n",
       "3                      0      water_boat           False 2020-07-01 00:07:43   \n",
       "4                      0      water_boat           False 2020-07-01 00:09:27   \n",
       "\n",
       "        flair  is_video  num_comments  score               self_text  \\\n",
       "0  Discussion         0            11      1                           \n",
       "1         NaN         0             0     31  Thanks i had no clue 😎   \n",
       "2        Meme         0             0      1                           \n",
       "3          DD         0             0      1                           \n",
       "4          DD         0             0      1                           \n",
       "\n",
       "                               title  is_submission  is_op  \\\n",
       "0  Bring back polls. Macy’s earnings              1      1   \n",
       "1                                                 0      0   \n",
       "2       Comfort Inn knows whats up 😎              1      1   \n",
       "3                    The next $NKLA?              1      1   \n",
       "4        The next meme stock? -$WKHS              1      1   \n",
       "\n",
       "   subreddit_subscribers  upvote_ratio  no_follow  \n",
       "0              1310116.0           1.0       True  \n",
       "1              1310118.0           0.0      False  \n",
       "2              1310120.0           1.0       True  \n",
       "3              1310126.0           1.0       True  \n",
       "4              1310128.0           1.0       True  "
      ]
     },
     "execution_count": 13,
     "metadata": {},
     "output_type": "execute_result"
    }
   ],
   "source": [
    "def sortFillDates(df, col=None):\n",
    "    \"\"\"\n",
    "    returns a copy of df where it is sorted by column\n",
    "    \"\"\"\n",
    "    if not col:\n",
    "        return df\n",
    "    \n",
    "    df_date = df.copy(deep=True)\n",
    "    \n",
    "    df_date.sort_values(by=col,\n",
    "                        inplace=True\n",
    "                       )\n",
    "    \n",
    "    df_date.interpolate(method='linear', \n",
    "                        columns=[col], \n",
    "                        inplace=True)\n",
    "    \n",
    "    df_date = df_date.reset_index(drop=True)\n",
    "    \n",
    "    \n",
    "    return df_date\n",
    "\n",
    "    \n",
    "\n",
    "    \n",
    "df_date = sortFillDates(df_dup, 'created_utc')\n",
    "#change to readable friendly time\n",
    "df_date['created_utc'] = pd.to_datetime(df_date['created_utc'], unit='s')\n",
    "\n",
    "df_date.head()"
   ]
  },
  {
   "cell_type": "code",
   "execution_count": 14,
   "metadata": {},
   "outputs": [
    {
     "data": {
      "text/plain": [
       "0.0"
      ]
     },
     "execution_count": 14,
     "metadata": {},
     "output_type": "execute_result"
    }
   ],
   "source": [
    "df_date['subreddit_subscribers'].isna().mean()"
   ]
  },
  {
   "cell_type": "markdown",
   "metadata": {},
   "source": [
    "### What about posts that stay popular over timeframe?"
   ]
  },
  {
   "cell_type": "markdown",
   "metadata": {},
   "source": [
    "# Get Time Differential"
   ]
  },
  {
   "cell_type": "code",
   "execution_count": 15,
   "metadata": {},
   "outputs": [],
   "source": [
    "#get first mention of comment\n",
    "df_first = df_date.drop_duplicates(subset=['self_text', 'title'], keep='first').reset_index(drop=True)\n",
    "#get last mention of comment\n",
    "df_last = df_date.drop_duplicates(subset=['self_text', 'title'], keep='last').reset_index(drop=True)\n",
    "\n",
    "#measure time differnece\n",
    "created_time_diff =  (df_last['created_utc'] - df_first['created_utc'])\n",
    "\n",
    "#make into float hours\n",
    "created_time_diff_hr = created_time_diff/ pd.to_timedelta(1, unit='D')"
   ]
  },
  {
   "cell_type": "code",
   "execution_count": 16,
   "metadata": {
    "scrolled": true
   },
   "outputs": [
    {
     "data": {
      "text/plain": [
       "<matplotlib.axes._subplots.AxesSubplot at 0x7fb166910910>"
      ]
     },
     "execution_count": 16,
     "metadata": {},
     "output_type": "execute_result"
    },
    {
     "data": {
      "image/png": "[encoded data removed]",
      "text/plain": [
       "<Figure size 432x288 with 1 Axes>"
      ]
     },
     "metadata": {
      "needs_background": "light"
     },
     "output_type": "display_data"
    }
   ],
   "source": [
    "created_time_diff_hr.hist()"
   ]
  },
  {
   "cell_type": "code",
   "execution_count": 17,
   "metadata": {},
   "outputs": [
    {
     "data": {
      "text/plain": [
       "Index(['total_awards_received', 'author', 'author_premium', 'created_utc',\n",
       "       'flair', 'is_video', 'num_comments', 'score', 'self_text', 'title',\n",
       "       'is_submission', 'is_op', 'subreddit_subscribers', 'upvote_ratio',\n",
       "       'no_follow'],\n",
       "      dtype='object')"
      ]
     },
     "execution_count": 17,
     "metadata": {},
     "output_type": "execute_result"
    }
   ],
   "source": [
    "df_date.columns"
   ]
  },
  {
   "cell_type": "code",
   "execution_count": 18,
   "metadata": {},
   "outputs": [
    {
     "data": {
      "text/plain": [
       "array([[<matplotlib.axes._subplots.AxesSubplot object at 0x7fb14fa530d0>]],\n",
       "      dtype=object)"
      ]
     },
     "execution_count": 18,
     "metadata": {},
     "output_type": "execute_result"
    },
    {
     "data": {
      "image/png": "[encoded data removed]",
      "text/plain": [
       "<Figure size 432x288 with 1 Axes>"
      ]
     },
     "metadata": {
      "needs_background": "light"
     },
     "output_type": "display_data"
    }
   ],
   "source": [
    "df_date.hist(column='total_awards_received', bins=np.arange(0, 20, 1))"
   ]
  },
  {
   "cell_type": "code",
   "execution_count": null,
   "metadata": {},
   "outputs": [],
   "source": []
  },
  {
   "cell_type": "code",
   "execution_count": null,
   "metadata": {},
   "outputs": [],
   "source": []
  },
  {
   "cell_type": "markdown",
   "metadata": {},
   "source": [
    "#### put it in a function"
   ]
  },
  {
   "cell_type": "code",
   "execution_count": 19,
   "metadata": {},
   "outputs": [],
   "source": [
    "def sigmoid_modified(x):\n",
    "    return 0.5 + (1 / (1 + math.exp(-x)))\n",
    "\n",
    "def timeDiffDuplicates(df, cols, time_col):\n",
    "    \n",
    "    #get first mention of comment\n",
    "    df_first = df.drop_duplicates(subset=cols, keep='first').reset_index(drop=True)\n",
    "    #get last mention of comment\n",
    "    df_last = df.drop_duplicates(subset=cols, keep='last').reset_index(drop=True)\n",
    "\n",
    "    #measure time differnece\n",
    "    created_time_diff =  (df_last[time_col] - df_first[time_col])\n",
    "\n",
    "    #make into float hours\n",
    "    created_time_diff_hr = created_time_diff/ pd.to_timedelta(1, unit='D')\n",
    "    \n",
    "#     #apply sigmoid function\n",
    "#     time_amplification = created_time_diff_hr.apply(sigmoid_modified)\n",
    "    \n",
    "    #make deep copy\n",
    "    df_time_diff = df.copy(deep=True)\n",
    "    \n",
    "    #drop duplicates\n",
    "    df_time_diff = df.drop_duplicates(subset=cols, keep='first').reset_index(drop=True)\n",
    "    \n",
    "    #add column\n",
    "    df_time_diff['created_time_diff_hr'] = created_time_diff_hr\n",
    "    \n",
    "    return df_time_diff\n",
    "    \n",
    "df_time_diff = timeDiffDuplicates(df = df_date,\n",
    "                                  cols=['title', 'self_text'],\n",
    "                                  time_col='created_utc')"
   ]
  },
  {
   "cell_type": "code",
   "execution_count": 20,
   "metadata": {},
   "outputs": [
    {
     "data": {
      "text/plain": [
       "(125860, 16)"
      ]
     },
     "execution_count": 20,
     "metadata": {},
     "output_type": "execute_result"
    }
   ],
   "source": [
    "df_time_diff.shape"
   ]
  },
  {
   "cell_type": "code",
   "execution_count": 21,
   "metadata": {},
   "outputs": [
    {
     "data": {
      "text/plain": [
       "array([[<matplotlib.axes._subplots.AxesSubplot object at 0x7fb14fb1c710>]],\n",
       "      dtype=object)"
      ]
     },
     "execution_count": 21,
     "metadata": {},
     "output_type": "execute_result"
    },
    {
     "data": {
      "image/png": "[encoded data removed]",
      "text/plain": [
       "<Figure size 432x288 with 1 Axes>"
      ]
     },
     "metadata": {
      "needs_background": "light"
     },
     "output_type": "display_data"
    }
   ],
   "source": [
    "df_time_diff.hist('created_time_diff_hr')"
   ]
  },
  {
   "cell_type": "code",
   "execution_count": 22,
   "metadata": {},
   "outputs": [
    {
     "data": {
      "text/plain": [
       "0.9731167415356781"
      ]
     },
     "execution_count": 22,
     "metadata": {},
     "output_type": "execute_result"
    }
   ],
   "source": [
    "len(df_time_diff) / len(df_date)"
   ]
  },
  {
   "cell_type": "markdown",
   "metadata": {},
   "source": [
    "## NaN Values"
   ]
  },
  {
   "cell_type": "markdown",
   "metadata": {},
   "source": [
    "### Flair"
   ]
  },
  {
   "cell_type": "code",
   "execution_count": 23,
   "metadata": {},
   "outputs": [
    {
     "data": {
      "text/plain": [
       "no_flair                         66462\n",
       "Discussion                       14486\n",
       "Shitpost                          8612\n",
       "Meme                              7217\n",
       "YOLO                              5065\n",
       "Gain                              4707\n",
       "DD                                4331\n",
       "Stocks                            2966\n",
       "Options                           2819\n",
       "Loss                              2688\n",
       "News                              1418\n",
       "Satire                            1185\n",
       "Fundamentals                      1050\n",
       "Storytime                         1046\n",
       "Technicals                         853\n",
       "Chart                              371\n",
       "Futures                            293\n",
       "Daily Discussion                   130\n",
       "Forex                               56\n",
       "Earnings Thread                     34\n",
       "WSBbooks                            26\n",
       "Donation                            21\n",
       "Mods                                11\n",
       "Weekend Discussion                  10\n",
       "Mods - Regarding MrBeast Post        1\n",
       "Tendies                              1\n",
       "Tuesday 2-Feb. I'm retarded          1\n",
       "Name: flair, dtype: int64"
      ]
     },
     "execution_count": 23,
     "metadata": {},
     "output_type": "execute_result"
    }
   ],
   "source": [
    "#fill NaN with 'no_flair'\n",
    "df_time_diff['flair'] = df_time_diff['flair'].fillna('no_flair')\n",
    "df_time_diff['flair'].value_counts(ascending=False)"
   ]
  },
  {
   "cell_type": "code",
   "execution_count": 24,
   "metadata": {},
   "outputs": [],
   "source": [
    "def seriesTopK(series, k=10):\n",
    "    \"\"\"\n",
    "    returns the top k values\n",
    "    \"\"\"\n",
    "    return series.value_counts(ascending=False)[:k].index"
   ]
  },
  {
   "cell_type": "code",
   "execution_count": 25,
   "metadata": {},
   "outputs": [],
   "source": [
    "def fixFlair(df, k=10):\n",
    "    \"\"\"\n",
    "    returns a new dataframe with dummies on flair column\n",
    "    \"\"\"\n",
    "    \n",
    "    #get the top k values by count\n",
    "    flair_top_vals = seriesTopK(df['flair'], k=10)\n",
    "    \n",
    "    #make a deep copy\n",
    "    df_flair = df.copy(deep=True)\n",
    "    \n",
    "    #keep only rows where flair is in the top k\n",
    "    df_flair = df_flair[df_flair['flair'].isin(flair_top_vals)]\n",
    "    \n",
    "    #get the dummies\n",
    "    df_flair = pd.get_dummies(df_flair, #the dataframe\n",
    "                              prefix='flair', # prefix to be added\n",
    "                              columns=['flair'] #columns to be dummied\n",
    "                             )\n",
    "    \n",
    "    \n",
    "    return df_flair\n",
    "\n",
    "\n",
    "df_flair = fixFlair(df_time_diff, k=10)"
   ]
  },
  {
   "cell_type": "code",
   "execution_count": 26,
   "metadata": {},
   "outputs": [
    {
     "data": {
      "text/plain": [
       "(119353, 25)"
      ]
     },
     "execution_count": 26,
     "metadata": {},
     "output_type": "execute_result"
    }
   ],
   "source": [
    "df_flair.shape"
   ]
  },
  {
   "cell_type": "markdown",
   "metadata": {},
   "source": [
    "### Collect Emojis\n"
   ]
  },
  {
   "cell_type": "code",
   "execution_count": 27,
   "metadata": {},
   "outputs": [],
   "source": [
    "def collectEmojisFromString(text):\n",
    "    \"\"\"\n",
    "    returns a dictionary count of all emojis in a descriptive manner\n",
    "    \"\"\"\n",
    "    \n",
    "    #get location of all emojis\n",
    "    emoj_list_loc = emoji.emoji_lis(text)\n",
    "    \n",
    "    #make a dictionary\n",
    "    emoj_dict = {}\n",
    "    \n",
    "    for d in emoj_list_loc:\n",
    "        #de-emojify\n",
    "        demoj = emoji.demojize(d['emoji'])\n",
    "        if demoj in emoj_dict:\n",
    "            emoj_dict[demoj] += 1\n",
    "        else:\n",
    "            emoj_dict[demoj] = 1\n",
    "    \n",
    "    return emoj_dict\n",
    "        \n",
    "    "
   ]
  },
  {
   "cell_type": "code",
   "execution_count": 28,
   "metadata": {},
   "outputs": [
    {
     "name": "stderr",
     "output_type": "stream",
     "text": [
      "/Users/nadimkawwa/opt/anaconda3/lib/python3.7/site-packages/pandas/core/frame.py:4320: SettingWithCopyWarning: \n",
      "A value is trying to be set on a copy of a slice from a DataFrame\n",
      "\n",
      "See the caveats in the documentation: https://pandas.pydata.org/pandas-docs/stable/user_guide/indexing.html#returning-a-view-versus-a-copy\n",
      "  downcast=downcast,\n"
     ]
    }
   ],
   "source": [
    "emoj_list = []\n",
    "\n",
    "#get the emojis from the two text columns\n",
    "for self_text, title in zip(df_flair['self_text'], df_flair['title']):\n",
    "    \n",
    "    #combine \n",
    "    text = ' '.join([self_text, title])\n",
    "    \n",
    "    #make a dicto f emojis\n",
    "    emoj_dict = collectEmojisFromString(text)\n",
    "    \n",
    "    #append to list\n",
    "    emoj_list.append(emoj_dict)\n",
    "    \n",
    "#make a dataframe\n",
    "df_emoj =pd.DataFrame(emoj_list)\n",
    "\n",
    "#get sum by columns\n",
    "emoji_col_sum = df_emoj.sum(axis=0)\n",
    "#keep top 10 emojis\n",
    "df_emoj_count = df_emoj[emoji_col_sum.sort_values(ascending=False).index[:10]]\n",
    "\n",
    "#fill missing vals by 0\n",
    "df_emoj_count.fillna(value=0, inplace=True)"
   ]
  },
  {
   "cell_type": "code",
   "execution_count": 29,
   "metadata": {},
   "outputs": [
    {
     "data": {
      "text/plain": [
       "(119353, 10)"
      ]
     },
     "execution_count": 29,
     "metadata": {},
     "output_type": "execute_result"
    }
   ],
   "source": [
    "df_emoj_count.shape"
   ]
  },
  {
   "cell_type": "code",
   "execution_count": 30,
   "metadata": {},
   "outputs": [
    {
     "data": {
      "text/plain": [
       "(119353, 35)"
      ]
     },
     "execution_count": 30,
     "metadata": {},
     "output_type": "execute_result"
    }
   ],
   "source": [
    "#merge\n",
    "df_emoj = df_flair.merge(right=df_emoj_count,\n",
    "                         how='left',\n",
    "                        left_on=df_flair.index, \n",
    "                        right_on=df_emoj_count.index,\n",
    "                         right_index=True,\n",
    "                         left_index=True)\n",
    "\n",
    "\n",
    "#fill empty emojis\n",
    "df_emoj[df_emoj_count.columns] = df_emoj[df_emoj_count.columns].fillna(value = 0)\n",
    "\n",
    "\n",
    "#check shape\n",
    "df_emoj.shape"
   ]
  },
  {
   "cell_type": "code",
   "execution_count": 31,
   "metadata": {},
   "outputs": [
    {
     "data": {
      "text/html": [
       "<div>\n",
       "<style scoped>\n",
       "    .dataframe tbody tr th:only-of-type {\n",
       "        vertical-align: middle;\n",
       "    }\n",
       "\n",
       "    .dataframe tbody tr th {\n",
       "        vertical-align: top;\n",
       "    }\n",
       "\n",
       "    .dataframe thead th {\n",
       "        text-align: right;\n",
       "    }\n",
       "</style>\n",
       "<table border=\"1\" class=\"dataframe\">\n",
       "  <thead>\n",
       "    <tr style=\"text-align: right;\">\n",
       "      <th></th>\n",
       "      <th>total_awards_received</th>\n",
       "      <th>author</th>\n",
       "      <th>author_premium</th>\n",
       "      <th>created_utc</th>\n",
       "      <th>is_video</th>\n",
       "      <th>num_comments</th>\n",
       "      <th>score</th>\n",
       "      <th>self_text</th>\n",
       "      <th>title</th>\n",
       "      <th>is_submission</th>\n",
       "      <th>...</th>\n",
       "      <th>:rocket:</th>\n",
       "      <th>:gem_stone:</th>\n",
       "      <th>:clown_face:</th>\n",
       "      <th>:bear:</th>\n",
       "      <th>:face_with_tears_of_joy:</th>\n",
       "      <th>:rainbow:</th>\n",
       "      <th>:new_moon:</th>\n",
       "      <th>:gorilla:</th>\n",
       "      <th>:raising_hands:</th>\n",
       "      <th>:full_moon:</th>\n",
       "    </tr>\n",
       "  </thead>\n",
       "  <tbody>\n",
       "    <tr>\n",
       "      <th>0</th>\n",
       "      <td>0</td>\n",
       "      <td>chibears20</td>\n",
       "      <td>False</td>\n",
       "      <td>2020-07-01 00:00:23</td>\n",
       "      <td>0</td>\n",
       "      <td>11</td>\n",
       "      <td>1</td>\n",
       "      <td></td>\n",
       "      <td>Bring back polls. Macy’s earnings</td>\n",
       "      <td>1</td>\n",
       "      <td>...</td>\n",
       "      <td>0.0</td>\n",
       "      <td>0.0</td>\n",
       "      <td>0.0</td>\n",
       "      <td>0.0</td>\n",
       "      <td>0.0</td>\n",
       "      <td>0.0</td>\n",
       "      <td>0.0</td>\n",
       "      <td>0.0</td>\n",
       "      <td>0.0</td>\n",
       "      <td>0.0</td>\n",
       "    </tr>\n",
       "    <tr>\n",
       "      <th>1</th>\n",
       "      <td>0</td>\n",
       "      <td>slow_down_more</td>\n",
       "      <td>False</td>\n",
       "      <td>2020-07-01 00:01:21</td>\n",
       "      <td>0</td>\n",
       "      <td>0</td>\n",
       "      <td>31</td>\n",
       "      <td>Thanks i had no clue 😎</td>\n",
       "      <td></td>\n",
       "      <td>0</td>\n",
       "      <td>...</td>\n",
       "      <td>0.0</td>\n",
       "      <td>0.0</td>\n",
       "      <td>0.0</td>\n",
       "      <td>0.0</td>\n",
       "      <td>0.0</td>\n",
       "      <td>0.0</td>\n",
       "      <td>0.0</td>\n",
       "      <td>0.0</td>\n",
       "      <td>0.0</td>\n",
       "      <td>0.0</td>\n",
       "    </tr>\n",
       "    <tr>\n",
       "      <th>2</th>\n",
       "      <td>0</td>\n",
       "      <td>hombrebad</td>\n",
       "      <td>False</td>\n",
       "      <td>2020-07-01 00:04:02</td>\n",
       "      <td>0</td>\n",
       "      <td>0</td>\n",
       "      <td>1</td>\n",
       "      <td></td>\n",
       "      <td>Comfort Inn knows whats up 😎</td>\n",
       "      <td>1</td>\n",
       "      <td>...</td>\n",
       "      <td>0.0</td>\n",
       "      <td>0.0</td>\n",
       "      <td>0.0</td>\n",
       "      <td>0.0</td>\n",
       "      <td>0.0</td>\n",
       "      <td>0.0</td>\n",
       "      <td>0.0</td>\n",
       "      <td>0.0</td>\n",
       "      <td>0.0</td>\n",
       "      <td>0.0</td>\n",
       "    </tr>\n",
       "    <tr>\n",
       "      <th>3</th>\n",
       "      <td>0</td>\n",
       "      <td>water_boat</td>\n",
       "      <td>False</td>\n",
       "      <td>2020-07-01 00:07:43</td>\n",
       "      <td>0</td>\n",
       "      <td>0</td>\n",
       "      <td>1</td>\n",
       "      <td></td>\n",
       "      <td>The next $NKLA?</td>\n",
       "      <td>1</td>\n",
       "      <td>...</td>\n",
       "      <td>0.0</td>\n",
       "      <td>0.0</td>\n",
       "      <td>0.0</td>\n",
       "      <td>0.0</td>\n",
       "      <td>0.0</td>\n",
       "      <td>0.0</td>\n",
       "      <td>0.0</td>\n",
       "      <td>0.0</td>\n",
       "      <td>0.0</td>\n",
       "      <td>0.0</td>\n",
       "    </tr>\n",
       "    <tr>\n",
       "      <th>4</th>\n",
       "      <td>0</td>\n",
       "      <td>water_boat</td>\n",
       "      <td>False</td>\n",
       "      <td>2020-07-01 00:09:27</td>\n",
       "      <td>0</td>\n",
       "      <td>0</td>\n",
       "      <td>1</td>\n",
       "      <td></td>\n",
       "      <td>The next meme stock? -$WKHS</td>\n",
       "      <td>1</td>\n",
       "      <td>...</td>\n",
       "      <td>0.0</td>\n",
       "      <td>0.0</td>\n",
       "      <td>0.0</td>\n",
       "      <td>0.0</td>\n",
       "      <td>0.0</td>\n",
       "      <td>0.0</td>\n",
       "      <td>0.0</td>\n",
       "      <td>0.0</td>\n",
       "      <td>0.0</td>\n",
       "      <td>0.0</td>\n",
       "    </tr>\n",
       "  </tbody>\n",
       "</table>\n",
       "<p>5 rows × 35 columns</p>\n",
       "</div>"
      ],
      "text/plain": [
       "   total_awards_received          author  author_premium         created_utc  \\\n",
       "0                      0      chibears20           False 2020-07-01 00:00:23   \n",
       "1                      0  slow_down_more           False 2020-07-01 00:01:21   \n",
       "2                      0       hombrebad           False 2020-07-01 00:04:02   \n",
       "3                      0      water_boat           False 2020-07-01 00:07:43   \n",
       "4                      0      water_boat           False 2020-07-01 00:09:27   \n",
       "\n",
       "   is_video  num_comments  score               self_text  \\\n",
       "0         0            11      1                           \n",
       "1         0             0     31  Thanks i had no clue 😎   \n",
       "2         0             0      1                           \n",
       "3         0             0      1                           \n",
       "4         0             0      1                           \n",
       "\n",
       "                               title  is_submission  ...  :rocket:  \\\n",
       "0  Bring back polls. Macy’s earnings              1  ...       0.0   \n",
       "1                                                 0  ...       0.0   \n",
       "2       Comfort Inn knows whats up 😎              1  ...       0.0   \n",
       "3                    The next $NKLA?              1  ...       0.0   \n",
       "4        The next meme stock? -$WKHS              1  ...       0.0   \n",
       "\n",
       "   :gem_stone:  :clown_face:  :bear:  :face_with_tears_of_joy:  :rainbow:  \\\n",
       "0          0.0           0.0     0.0                       0.0        0.0   \n",
       "1          0.0           0.0     0.0                       0.0        0.0   \n",
       "2          0.0           0.0     0.0                       0.0        0.0   \n",
       "3          0.0           0.0     0.0                       0.0        0.0   \n",
       "4          0.0           0.0     0.0                       0.0        0.0   \n",
       "\n",
       "   :new_moon:  :gorilla:  :raising_hands:  :full_moon:  \n",
       "0         0.0        0.0              0.0          0.0  \n",
       "1         0.0        0.0              0.0          0.0  \n",
       "2         0.0        0.0              0.0          0.0  \n",
       "3         0.0        0.0              0.0          0.0  \n",
       "4         0.0        0.0              0.0          0.0  \n",
       "\n",
       "[5 rows x 35 columns]"
      ]
     },
     "execution_count": 31,
     "metadata": {},
     "output_type": "execute_result"
    }
   ],
   "source": [
    "df_emoj.head()"
   ]
  },
  {
   "cell_type": "code",
   "execution_count": 32,
   "metadata": {},
   "outputs": [
    {
     "data": {
      "text/plain": [
       "total_awards_received       0.0\n",
       "author                      0.0\n",
       "author_premium              0.0\n",
       "created_utc                 0.0\n",
       "is_video                    0.0\n",
       "num_comments                0.0\n",
       "score                       0.0\n",
       "self_text                   0.0\n",
       "title                       0.0\n",
       "is_submission               0.0\n",
       "is_op                       0.0\n",
       "subreddit_subscribers       0.0\n",
       "upvote_ratio                0.0\n",
       "no_follow                   0.0\n",
       "created_time_diff_hr        0.0\n",
       "flair_DD                    0.0\n",
       "flair_Discussion            0.0\n",
       "flair_Gain                  0.0\n",
       "flair_Loss                  0.0\n",
       "flair_Meme                  0.0\n",
       "flair_Options               0.0\n",
       "flair_Shitpost              0.0\n",
       "flair_Stocks                0.0\n",
       "flair_YOLO                  0.0\n",
       "flair_no_flair              0.0\n",
       ":rocket:                    0.0\n",
       ":gem_stone:                 0.0\n",
       ":clown_face:                0.0\n",
       ":bear:                      0.0\n",
       ":face_with_tears_of_joy:    0.0\n",
       ":rainbow:                   0.0\n",
       ":new_moon:                  0.0\n",
       ":gorilla:                   0.0\n",
       ":raising_hands:             0.0\n",
       ":full_moon:                 0.0\n",
       "dtype: float64"
      ]
     },
     "execution_count": 32,
     "metadata": {},
     "output_type": "execute_result"
    }
   ],
   "source": [
    "#final check for missing values\n",
    "df_emoj.isna().mean()"
   ]
  },
  {
   "cell_type": "markdown",
   "metadata": {},
   "source": [
    "## Create Amplification Score\n",
    "\n",
    "Consider a list below a measure popularity among popular posts. This does give advantage to submissions over comments, and I believe this is valid since submission titles are the first thing we see before diving into a thread.\n",
    "- total_awards_received\n",
    "- num_comments\n",
    "- upvote_ratio"
   ]
  },
  {
   "cell_type": "code",
   "execution_count": 33,
   "metadata": {},
   "outputs": [
    {
     "data": {
      "text/plain": [
       "Index(['total_awards_received', 'author', 'author_premium', 'created_utc',\n",
       "       'is_video', 'num_comments', 'score', 'self_text', 'title',\n",
       "       'is_submission', 'is_op', 'subreddit_subscribers', 'upvote_ratio',\n",
       "       'no_follow', 'created_time_diff_hr', 'flair_DD', 'flair_Discussion',\n",
       "       'flair_Gain', 'flair_Loss', 'flair_Meme', 'flair_Options',\n",
       "       'flair_Shitpost', 'flair_Stocks', 'flair_YOLO', 'flair_no_flair',\n",
       "       ':rocket:', ':gem_stone:', ':clown_face:', ':bear:',\n",
       "       ':face_with_tears_of_joy:', ':rainbow:', ':new_moon:', ':gorilla:',\n",
       "       ':raising_hands:', ':full_moon:'],\n",
       "      dtype='object')"
      ]
     },
     "execution_count": 33,
     "metadata": {},
     "output_type": "execute_result"
    }
   ],
   "source": [
    "df_emoj.columns"
   ]
  },
  {
   "cell_type": "code",
   "execution_count": 34,
   "metadata": {},
   "outputs": [
    {
     "data": {
      "text/html": [
       "<div>\n",
       "<style scoped>\n",
       "    .dataframe tbody tr th:only-of-type {\n",
       "        vertical-align: middle;\n",
       "    }\n",
       "\n",
       "    .dataframe tbody tr th {\n",
       "        vertical-align: top;\n",
       "    }\n",
       "\n",
       "    .dataframe thead th {\n",
       "        text-align: right;\n",
       "    }\n",
       "</style>\n",
       "<table border=\"1\" class=\"dataframe\">\n",
       "  <thead>\n",
       "    <tr style=\"text-align: right;\">\n",
       "      <th></th>\n",
       "      <th>total_awards_received</th>\n",
       "      <th>num_comments</th>\n",
       "      <th>upvote_ratio</th>\n",
       "      <th>created_time_diff_hr</th>\n",
       "    </tr>\n",
       "  </thead>\n",
       "  <tbody>\n",
       "    <tr>\n",
       "      <th>count</th>\n",
       "      <td>119353.000000</td>\n",
       "      <td>119353.000000</td>\n",
       "      <td>119353.000000</td>\n",
       "      <td>119353.000000</td>\n",
       "    </tr>\n",
       "    <tr>\n",
       "      <th>mean</th>\n",
       "      <td>0.603035</td>\n",
       "      <td>30.309318</td>\n",
       "      <td>0.455133</td>\n",
       "      <td>0.552483</td>\n",
       "    </tr>\n",
       "    <tr>\n",
       "      <th>std</th>\n",
       "      <td>9.290493</td>\n",
       "      <td>956.160189</td>\n",
       "      <td>0.492792</td>\n",
       "      <td>0.282831</td>\n",
       "    </tr>\n",
       "    <tr>\n",
       "      <th>min</th>\n",
       "      <td>0.000000</td>\n",
       "      <td>0.000000</td>\n",
       "      <td>0.000000</td>\n",
       "      <td>0.000000</td>\n",
       "    </tr>\n",
       "    <tr>\n",
       "      <th>25%</th>\n",
       "      <td>0.000000</td>\n",
       "      <td>0.000000</td>\n",
       "      <td>0.000000</td>\n",
       "      <td>0.360914</td>\n",
       "    </tr>\n",
       "    <tr>\n",
       "      <th>50%</th>\n",
       "      <td>0.000000</td>\n",
       "      <td>0.000000</td>\n",
       "      <td>0.000000</td>\n",
       "      <td>0.570463</td>\n",
       "    </tr>\n",
       "    <tr>\n",
       "      <th>75%</th>\n",
       "      <td>0.000000</td>\n",
       "      <td>2.000000</td>\n",
       "      <td>1.000000</td>\n",
       "      <td>0.750046</td>\n",
       "    </tr>\n",
       "    <tr>\n",
       "      <th>max</th>\n",
       "      <td>571.000000</td>\n",
       "      <td>146559.000000</td>\n",
       "      <td>1.000000</td>\n",
       "      <td>3.291678</td>\n",
       "    </tr>\n",
       "  </tbody>\n",
       "</table>\n",
       "</div>"
      ],
      "text/plain": [
       "       total_awards_received   num_comments   upvote_ratio  \\\n",
       "count          119353.000000  119353.000000  119353.000000   \n",
       "mean                0.603035      30.309318       0.455133   \n",
       "std                 9.290493     956.160189       0.492792   \n",
       "min                 0.000000       0.000000       0.000000   \n",
       "25%                 0.000000       0.000000       0.000000   \n",
       "50%                 0.000000       0.000000       0.000000   \n",
       "75%                 0.000000       2.000000       1.000000   \n",
       "max               571.000000  146559.000000       1.000000   \n",
       "\n",
       "       created_time_diff_hr  \n",
       "count         119353.000000  \n",
       "mean               0.552483  \n",
       "std                0.282831  \n",
       "min                0.000000  \n",
       "25%                0.360914  \n",
       "50%                0.570463  \n",
       "75%                0.750046  \n",
       "max                3.291678  "
      ]
     },
     "execution_count": 34,
     "metadata": {},
     "output_type": "execute_result"
    }
   ],
   "source": [
    "df_emoj[['total_awards_received', 'num_comments', 'upvote_ratio','created_time_diff_hr']].describe()"
   ]
  },
  {
   "cell_type": "code",
   "execution_count": 35,
   "metadata": {},
   "outputs": [
    {
     "data": {
      "text/plain": [
       "array([[<matplotlib.axes._subplots.AxesSubplot object at 0x7fb165095cd0>]],\n",
       "      dtype=object)"
      ]
     },
     "execution_count": 35,
     "metadata": {},
     "output_type": "execute_result"
    },
    {
     "data": {
      "image/png": "[encoded data removed]",
      "text/plain": [
       "<Figure size 432x288 with 1 Axes>"
      ]
     },
     "metadata": {
      "needs_background": "light"
     },
     "output_type": "display_data"
    }
   ],
   "source": [
    "df_emoj.hist(column='total_awards_received', bins=np.arange(0, 100, 1))"
   ]
  },
  {
   "cell_type": "code",
   "execution_count": 36,
   "metadata": {},
   "outputs": [
    {
     "data": {
      "text/plain": [
       "array([[<matplotlib.axes._subplots.AxesSubplot object at 0x7fb164e709d0>]],\n",
       "      dtype=object)"
      ]
     },
     "execution_count": 36,
     "metadata": {},
     "output_type": "execute_result"
    },
    {
     "data": {
      "image/png": "[encoded data removed]",
      "text/plain": [
       "<Figure size 432x288 with 1 Axes>"
      ]
     },
     "metadata": {
      "needs_background": "light"
     },
     "output_type": "display_data"
    }
   ],
   "source": [
    "df_emoj.hist(column='num_comments', bins=np.arange(0, 20000, 1000))"
   ]
  },
  {
   "cell_type": "code",
   "execution_count": 37,
   "metadata": {},
   "outputs": [
    {
     "data": {
      "text/plain": [
       "array([[<matplotlib.axes._subplots.AxesSubplot object at 0x7fb0a0c80150>]],\n",
       "      dtype=object)"
      ]
     },
     "execution_count": 37,
     "metadata": {},
     "output_type": "execute_result"
    },
    {
     "data": {
      "image/png": "[encoded data removed]",
      "text/plain": [
       "<Figure size 432x288 with 1 Axes>"
      ]
     },
     "metadata": {
      "needs_background": "light"
     },
     "output_type": "display_data"
    }
   ],
   "source": [
    "df_emoj.hist(column='upvote_ratio')"
   ]
  },
  {
   "cell_type": "code",
   "execution_count": 38,
   "metadata": {},
   "outputs": [],
   "source": [
    "#let's create a copy\n",
    "df_amp = df_emoj.copy(deep=True)\n",
    "\n",
    "#create amplification column\n",
    "df_amp['amplification'] = ((df_amp['created_time_diff_hr'] +1) \n",
    "                           * (df_amp['upvote_ratio'] +1 ) \n",
    "                           * (1+ np.log10(1 + df_amp['num_comments'])) \n",
    "                           * (1+ np.log10(1 + df_amp['total_awards_received'])))"
   ]
  },
  {
   "cell_type": "markdown",
   "metadata": {},
   "source": [
    "# Save the Work"
   ]
  },
  {
   "cell_type": "code",
   "execution_count": 39,
   "metadata": {},
   "outputs": [],
   "source": [
    "df_amp.to_csv(os.path.join('data', 'data_munged.csv'))"
   ]
  },
  {
   "cell_type": "code",
   "execution_count": null,
   "metadata": {},
   "outputs": [],
   "source": []
  },
  {
   "cell_type": "code",
   "execution_count": null,
   "metadata": {},
   "outputs": [],
   "source": []
  }
 ],
 "metadata": {
  "kernelspec": {
   "display_name": "Python 3",
   "language": "python",
   "name": "python3"
  },
  "language_info": {
   "codemirror_mode": {
    "name": "ipython",
    "version": 3
   },
   "file_extension": ".py",
   "mimetype": "text/x-python",
   "name": "python",
   "nbconvert_exporter": "python",
   "pygments_lexer": "ipython3",
   "version": "3.7.4"
  }
 },
 "nbformat": 4,
 "nbformat_minor": 2
}
